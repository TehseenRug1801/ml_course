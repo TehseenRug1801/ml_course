{
 "cells": [
  {
   "cell_type": "code",
   "execution_count": 1,
   "metadata": {},
   "outputs": [
    {
     "name": "stderr",
     "output_type": "stream",
     "text": [
      "Using TensorFlow backend.\n"
     ]
    }
   ],
   "source": [
    "from PIL import Image\n",
    "import matplotlib.pyplot as plt\n",
    "import numpy as np\n",
    "import pandas as pd\n",
    "\n",
    "from sklearn.model_selection import train_test_split\n",
    "\n",
    "from keras.utils.np_utils import to_categorical\n",
    "from keras.preprocessing.image import ImageDataGenerator, array_to_img, img_to_array, load_img\n",
    "from keras.callbacks import ReduceLROnPlateau\n",
    "from keras.optimizers import RMSprop\n",
    "from keras.layers import Dense, Dropout, GlobalAveragePooling2D, Conv2D, MaxPool2D\n",
    "from keras.models import Sequential"
   ]
  },
  {
   "cell_type": "code",
   "execution_count": 2,
   "metadata": {},
   "outputs": [],
   "source": [
    "train = pd.read_csv('resources/mnist_train.csv')"
   ]
  },
  {
   "cell_type": "code",
   "execution_count": 3,
   "metadata": {},
   "outputs": [],
   "source": [
    "np.random.seed(10)\n",
    "\n",
    "remove_n = 45000\n",
    "drop_indices = np.random.choice(train.index, remove_n, replace=False)\n",
    "train_subset = train.drop(drop_indices)"
   ]
  },
  {
   "cell_type": "code",
   "execution_count": 4,
   "metadata": {},
   "outputs": [],
   "source": [
    "Y_train = train_subset[\"label\"]\n",
    "X_train = train_subset.drop(labels = [\"label\"],axis = 1) "
   ]
  },
  {
   "cell_type": "code",
   "execution_count": 5,
   "metadata": {},
   "outputs": [
    {
     "data": {
      "text/plain": [
       "1    1713\n",
       "7    1550\n",
       "8    1518\n",
       "9    1515\n",
       "3    1511\n",
       "0    1504\n",
       "4    1487\n",
       "6    1472\n",
       "2    1429\n",
       "5    1301\n",
       "Name: label, dtype: int64"
      ]
     },
     "execution_count": 5,
     "metadata": {},
     "output_type": "execute_result"
    }
   ],
   "source": [
    "Y_train.value_counts()"
   ]
  },
  {
   "cell_type": "code",
   "execution_count": 6,
   "metadata": {},
   "outputs": [],
   "source": [
    "X_train = X_train.values.reshape(-1,28,28,1)"
   ]
  },
  {
   "cell_type": "code",
   "execution_count": 7,
   "metadata": {},
   "outputs": [
    {
     "data": {
      "image/png": "[encoded data removed]",
      "text/plain": [
       "<Figure size 432x288 with 1 Axes>"
      ]
     },
     "metadata": {
      "needs_background": "light"
     },
     "output_type": "display_data"
    }
   ],
   "source": [
    "g = plt.imshow(X_train[3][:,:,0])"
   ]
  },
  {
   "cell_type": "code",
   "execution_count": 8,
   "metadata": {},
   "outputs": [],
   "source": [
    "Y_train = to_categorical(Y_train, num_classes = 10)"
   ]
  },
  {
   "cell_type": "code",
   "execution_count": 13,
   "metadata": {},
   "outputs": [],
   "source": [
    "images_train, images_val, labels_train, labels_val = train_test_split(X_train, Y_train, test_size = 0.2, random_state=42)"
   ]
  },
  {
   "cell_type": "code",
   "execution_count": 14,
   "metadata": {},
   "outputs": [
    {
     "data": {
      "text/plain": [
       "(12000, 28, 28, 1)"
      ]
     },
     "execution_count": 14,
     "metadata": {},
     "output_type": "execute_result"
    }
   ],
   "source": [
    "images_train.shape"
   ]
  },
  {
   "cell_type": "code",
   "execution_count": 15,
   "metadata": {},
   "outputs": [],
   "source": [
    "neural_network = Sequential()\n",
    "neural_network.add(Conv2D(filters=64, kernel_size=(3, 3), padding='Same',\n",
    "                  activation='relu', input_shape = (28,28,1)))\n",
    "neural_network.add(Conv2D(filters=64, kernel_size=(3, 3), padding='Same',\n",
    "                  activation='relu'))\n",
    "neural_network.add(MaxPool2D(pool_size=(2, 2)))\n",
    "neural_network.add(Dropout(0.25))\n",
    "\n",
    "neural_network.add(Conv2D(filters=64, kernel_size=(3, 3), padding='Same',\n",
    "                          activation='relu'))\n",
    "neural_network.add(Conv2D(filters=64, kernel_size=(3, 3), padding='Same',\n",
    "                          activation='relu'))\n",
    "neural_network.add(MaxPool2D(pool_size=(2, 2)))\n",
    "neural_network.add(Dropout(0.25))\n",
    "\n",
    "neural_network.add(GlobalAveragePooling2D())\n",
    "neural_network.add(Dense(10, activation=\"softmax\"))"
   ]
  },
  {
   "cell_type": "code",
   "execution_count": 16,
   "metadata": {},
   "outputs": [
    {
     "name": "stdout",
     "output_type": "stream",
     "text": [
      "_________________________________________________________________\n",
      "Layer (type)                 Output Shape              Param #   \n",
      "=================================================================\n",
      "conv2d_5 (Conv2D)            (None, 28, 28, 64)        640       \n",
      "_________________________________________________________________\n",
      "conv2d_6 (Conv2D)            (None, 28, 28, 64)        36928     \n",
      "_________________________________________________________________\n",
      "max_pooling2d_3 (MaxPooling2 (None, 14, 14, 64)        0         \n",
      "_________________________________________________________________\n",
      "dropout_3 (Dropout)          (None, 14, 14, 64)        0         \n",
      "_________________________________________________________________\n",
      "conv2d_7 (Conv2D)            (None, 14, 14, 64)        36928     \n",
      "_________________________________________________________________\n",
      "conv2d_8 (Conv2D)            (None, 14, 14, 64)        36928     \n",
      "_________________________________________________________________\n",
      "max_pooling2d_4 (MaxPooling2 (None, 7, 7, 64)          0         \n",
      "_________________________________________________________________\n",
      "dropout_4 (Dropout)          (None, 7, 7, 64)          0         \n",
      "_________________________________________________________________\n",
      "global_average_pooling2d_2 ( (None, 64)                0         \n",
      "_________________________________________________________________\n",
      "dense_2 (Dense)              (None, 10)                650       \n",
      "=================================================================\n",
      "Total params: 112,074\n",
      "Trainable params: 112,074\n",
      "Non-trainable params: 0\n",
      "_________________________________________________________________\n"
     ]
    }
   ],
   "source": [
    "neural_network.summary()"
   ]
  },
  {
   "cell_type": "code",
   "execution_count": 17,
   "metadata": {},
   "outputs": [],
   "source": [
    "optimizer = RMSprop(lr=0.001, rho=0.9, epsilon=1e-08, decay=0.0)\n",
    "neural_network.compile(optimizer=optimizer, loss=\"categorical_crossentropy\", metrics=[\"accuracy\"])"
   ]
  },
  {
   "cell_type": "code",
   "execution_count": 18,
   "metadata": {},
   "outputs": [
    {
     "name": "stdout",
     "output_type": "stream",
     "text": [
      "WARNING:tensorflow:From C:\\Users\\trug\\AppData\\Local\\Continuum\\anaconda3\\lib\\site-packages\\tensorflow\\python\\ops\\math_ops.py:3066: to_int32 (from tensorflow.python.ops.math_ops) is deprecated and will be removed in a future version.\n",
      "Instructions for updating:\n",
      "Use tf.cast instead.\n",
      "Train on 12000 samples, validate on 3000 samples\n",
      "Epoch 1/10\n",
      " - 27s - loss: 1.1152 - acc: 0.6628 - val_loss: 0.1622 - val_acc: 0.9530\n",
      "Epoch 2/10\n",
      " - 26s - loss: 0.2270 - acc: 0.9347 - val_loss: 0.0878 - val_acc: 0.9723\n",
      "Epoch 3/10\n",
      " - 26s - loss: 0.1409 - acc: 0.9582 - val_loss: 0.0789 - val_acc: 0.9783\n",
      "Epoch 4/10\n",
      " - 26s - loss: 0.1109 - acc: 0.9672 - val_loss: 0.0824 - val_acc: 0.9743\n",
      "Epoch 5/10\n",
      " - 26s - loss: 0.0866 - acc: 0.9734 - val_loss: 0.0639 - val_acc: 0.9800\n",
      "Epoch 6/10\n",
      " - 26s - loss: 0.0727 - acc: 0.9792 - val_loss: 0.0760 - val_acc: 0.9747\n",
      "Epoch 7/10\n",
      " - 26s - loss: 0.0678 - acc: 0.9806 - val_loss: 0.0690 - val_acc: 0.9793\n",
      "Epoch 8/10\n",
      " - 26s - loss: 0.0553 - acc: 0.9829 - val_loss: 0.0499 - val_acc: 0.9843\n",
      "Epoch 9/10\n",
      " - 26s - loss: 0.0553 - acc: 0.9847 - val_loss: 0.0702 - val_acc: 0.9833\n",
      "Epoch 10/10\n",
      " - 26s - loss: 0.0487 - acc: 0.9844 - val_loss: 0.0574 - val_acc: 0.9850\n"
     ]
    },
    {
     "data": {
      "text/plain": [
       "<keras.callbacks.History at 0x210a266c908>"
      ]
     },
     "execution_count": 18,
     "metadata": {},
     "output_type": "execute_result"
    }
   ],
   "source": [
    "learning_rate_reduction = ReduceLROnPlateau(monitor='val_acc', patience=3, verbose=1, factor=0.5, min_lr=0.000001)\n",
    "epochs = 10\n",
    "batch_size = 30\n",
    "neural_network.fit(np.array(images_train), np.array(labels_train), batch_size=batch_size,\n",
    "                             epochs=epochs, validation_data=(np.array(images_val), np.array(labels_val)), verbose=2,\n",
    "                             callbacks=[learning_rate_reduction])"
   ]
  },
  {
   "cell_type": "code",
   "execution_count": 19,
   "metadata": {},
   "outputs": [],
   "source": [
    "neural_network_augm = Sequential()\n",
    "neural_network_augm.add(Conv2D(filters=64, kernel_size=(3, 3), padding='Same',\n",
    "                  activation='relu', input_shape = (28,28,1)))\n",
    "neural_network_augm.add(Conv2D(filters=64, kernel_size=(3, 3), padding='Same',\n",
    "                  activation='relu'))\n",
    "neural_network_augm.add(MaxPool2D(pool_size=(2, 2)))\n",
    "neural_network_augm.add(Dropout(0.25))\n",
    "\n",
    "neural_network_augm.add(Conv2D(filters=64, kernel_size=(3, 3), padding='Same',\n",
    "                          activation='relu'))\n",
    "neural_network_augm.add(Conv2D(filters=64, kernel_size=(3, 3), padding='Same',\n",
    "                          activation='relu'))\n",
    "neural_network_augm.add(MaxPool2D(pool_size=(2, 2)))\n",
    "neural_network_augm.add(Dropout(0.25))\n",
    "\n",
    "neural_network_augm.add(GlobalAveragePooling2D())\n",
    "neural_network_augm.add(Dense(10, activation=\"softmax\"))"
   ]
  },
  {
   "cell_type": "code",
   "execution_count": 20,
   "metadata": {},
   "outputs": [],
   "source": [
    "optimizer = RMSprop(lr=0.001, rho=0.9, epsilon=1e-08, decay=0.0)\n",
    "neural_network_augm.compile(optimizer=optimizer, loss=\"categorical_crossentropy\", metrics=[\"accuracy\"])"
   ]
  },
  {
   "cell_type": "code",
   "execution_count": 21,
   "metadata": {},
   "outputs": [],
   "source": [
    "datagen = ImageDataGenerator(\n",
    "        rotation_range=20,\n",
    "        width_shift_range=0.1,\n",
    "        height_shift_range=0.1,\n",
    "        shear_range=0.1,\n",
    "        zoom_range=0.1,\n",
    "        horizontal_flip=False,\n",
    "        fill_mode='nearest')\n",
    "\n",
    "datagen.fit(images_train)"
   ]
  },
  {
   "cell_type": "code",
   "execution_count": 22,
   "metadata": {},
   "outputs": [
    {
     "name": "stdout",
     "output_type": "stream",
     "text": [
      "Epoch 1/10\n",
      " - 26s - loss: 1.3105 - acc: 0.5967 - val_loss: 0.2291 - val_acc: 0.9333\n",
      "Epoch 2/10\n",
      " - 26s - loss: 0.3486 - acc: 0.8912 - val_loss: 0.1257 - val_acc: 0.9640\n",
      "Epoch 3/10\n",
      " - 26s - loss: 0.2187 - acc: 0.9336 - val_loss: 0.0879 - val_acc: 0.9730\n",
      "Epoch 4/10\n",
      " - 26s - loss: 0.1705 - acc: 0.9476 - val_loss: 0.1196 - val_acc: 0.9667\n",
      "Epoch 5/10\n",
      " - 26s - loss: 0.1470 - acc: 0.9569 - val_loss: 0.0806 - val_acc: 0.9777\n",
      "Epoch 6/10\n",
      " - 26s - loss: 0.1270 - acc: 0.9619 - val_loss: 0.0876 - val_acc: 0.9727\n",
      "Epoch 7/10\n",
      " - 26s - loss: 0.1146 - acc: 0.9656 - val_loss: 0.0565 - val_acc: 0.9810\n",
      "Epoch 8/10\n",
      " - 26s - loss: 0.1094 - acc: 0.9682 - val_loss: 0.1157 - val_acc: 0.9627\n",
      "Epoch 9/10\n",
      " - 26s - loss: 0.0970 - acc: 0.9708 - val_loss: 0.0603 - val_acc: 0.9803\n",
      "Epoch 10/10\n",
      " - 26s - loss: 0.0943 - acc: 0.9727 - val_loss: 0.0451 - val_acc: 0.9873\n"
     ]
    },
    {
     "data": {
      "text/plain": [
       "<keras.callbacks.History at 0x210a23cb128>"
      ]
     },
     "execution_count": 22,
     "metadata": {},
     "output_type": "execute_result"
    }
   ],
   "source": [
    "learning_rate_reduction = ReduceLROnPlateau(monitor='val_acc', patience=3, verbose=1, factor=0.5, min_lr=0.000001)\n",
    "epochs = 10\n",
    "batch_size = 30\n",
    "neural_network_augm.fit_generator(datagen.flow(images_train, labels_train, batch_size=batch_size),\n",
    "                             epochs=epochs, validation_data=(np.array(images_val), np.array(labels_val)), verbose=2,\n",
    "                             steps_per_epoch=images_train.shape[0] // batch_size,\n",
    "                             callbacks=[learning_rate_reduction])"
   ]
  },
  {
   "cell_type": "code",
   "execution_count": 23,
   "metadata": {},
   "outputs": [
    {
     "data": {
      "image/png": "[encoded data removed]",
      "text/plain": [
       "<Figure size 432x288 with 4 Axes>"
      ]
     },
     "metadata": {
      "needs_background": "light"
     },
     "output_type": "display_data"
    }
   ],
   "source": [
    "predictions = neural_network.predict(images_val)\n",
    "# Convert to one hot vectors\n",
    "predicted_labels = np.argmax(predictions, axis=1)\n",
    "true_labels = np.argmax(labels_val, axis=1)\n",
    "\n",
    "# extract method and move to error_analyser\n",
    "errors = predicted_labels - true_labels != 0\n",
    "\n",
    "numerical_values_of_predicted_errors = predictions[errors]\n",
    "predicted_probabilities_of_errors = np.max(numerical_values_of_predicted_errors, axis=1)\n",
    "\n",
    "labels_of_incorrectly_classified_images = true_labels[errors]\n",
    "predicted_probabilities_of_correct_images \\\n",
    "    = np.diagonal(np.take(numerical_values_of_predicted_errors, labels_of_incorrectly_classified_images, axis=1))\n",
    "\n",
    "differences_of_probabilities = predicted_probabilities_of_errors - predicted_probabilities_of_correct_images\n",
    "sorted_differences = np.argsort(differences_of_probabilities)\n",
    "\n",
    "def display_errors(errors_index, img_errors, pred_errors, obs_errors):\n",
    "        n = 0\n",
    "        nrows = 2\n",
    "        ncols = 2\n",
    "        fig, ax = plt.subplots(nrows, ncols, sharex=True, sharey=True)\n",
    "        for row in range(nrows):\n",
    "            for col in range(ncols):\n",
    "                error = errors_index[n]\n",
    "                ax[row, col].imshow((img_errors[error]).reshape((28, 28)))\n",
    "                ax[row, col].set_title(\"Predicted label :{}\\nTrue label :{}\".format(pred_errors[error], obs_errors[error]))\n",
    "                n += 1\n",
    "\n",
    "# Top 4 errors\n",
    "if len(sorted_differences) >= 4:\n",
    "    most_important_errors = sorted_differences[-4:]\n",
    "    display_errors(most_important_errors, images_val[errors],\n",
    "                                  predicted_labels[errors], labels_of_incorrectly_classified_images)\n",
    "    plt.show()\n"
   ]
  }
 ],
 "metadata": {
  "kernelspec": {
   "display_name": "Python 3",
   "language": "python",
   "name": "python3"
  },
  "language_info": {
   "codemirror_mode": {
    "name": "ipython",
    "version": 3
   },
   "file_extension": ".py",
   "mimetype": "text/x-python",
   "name": "python",
   "nbconvert_exporter": "python",
   "pygments_lexer": "ipython3",
   "version": "3.7.3"
  }
 },
 "nbformat": 4,
 "nbformat_minor": 2
}
