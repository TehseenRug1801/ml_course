{
 "cells": [
  {
   "cell_type": "markdown",
   "metadata": {},
   "source": [
    "# NLP - Basics"
   ]
  },
  {
   "cell_type": "code",
   "execution_count": 1,
   "metadata": {},
   "outputs": [
    {
     "name": "stderr",
     "output_type": "stream",
     "text": [
      "Using TensorFlow backend.\n"
     ]
    }
   ],
   "source": [
    "from numpy import array\n",
    "from keras.preprocessing.text import Tokenizer\n",
    "from keras.utils import to_categorical\n",
    "from keras.preprocessing.sequence import pad_sequences\n",
    "from keras.models import Sequential\n",
    "from keras.layers import Dense\n",
    "from keras.layers import LSTM\n",
    "from keras.layers import Embedding"
   ]
  },
  {
   "cell_type": "markdown",
   "metadata": {},
   "source": [
    "### Der Text, der durch das Netzwerk gelernt werden soll"
   ]
  },
  {
   "cell_type": "code",
   "execution_count": 2,
   "metadata": {},
   "outputs": [],
   "source": [
    "data_phd = \"\"\"Before explaing how bound states can be naturally embedded in the framework of the\n",
    "S-matrix, we shall first of all derive a generic expression for the bound state in terms of\n",
    "the microscopic degrees of freedom of the underlying theory which is independent of any\n",
    "asymptotic construction. Indeed, when computing observables connected to the interior of\n",
    "the black hole we will make heavy use of this non-asymptotic construction.\n",
    "As explained before, at the kinematical level all quantum states are identified by their\n",
    "quantum numbers. In particular, from the point of view of representing a bound state in\n",
    "terms of Fock eigenstates constructed from the weakly coupled degrees of freedom appearing in the microscopic Lagrangian, it is clear that only those Fock states have non-vanishing\n",
    "overlap with the bound state which carry the same quantum numbers as the latter. In\n",
    "other words, these states should have quantum numbers in accordance with the intrinsic\n",
    "symmetries at work (such as gauge symmetries), and with the isometries characterizing\n",
    "bound states in Minkowski space–time. Furthermore, the state has to be characterized\n",
    "according to the Casimir operators of Minkowski, i.e. mass squared and spin. Including all these quantum numbers, collectively denoted as L, leads to a complete kinematic\n",
    "characterization of the bound state in question.\n",
    "\"\"\""
   ]
  },
  {
   "cell_type": "markdown",
   "metadata": {},
   "source": [
    "### Konvertierung der Sätze in numerisches Format"
   ]
  },
  {
   "cell_type": "code",
   "execution_count": 3,
   "metadata": {},
   "outputs": [
    {
     "name": "stdout",
     "output_type": "stream",
     "text": [
      "[(1, 'the'), (2, 'of'), (3, 'in'), (4, 'bound'), (5, 'states'), (6, 'state'), (7, 'quantum'), (8, 'to'), (9, 'as'), (10, 'numbers')]\n",
      "[(113, 'spin'), (114, 'including'), (115, 'collectively'), (116, 'denoted'), (117, 'l'), (118, 'leads'), (119, 'complete'), (120, 'kinematic'), (121, 'characterization'), (122, 'question')]\n"
     ]
    }
   ],
   "source": [
    "tokenizer = Tokenizer()\n",
    "tokenizer.fit_on_texts([data_phd])\n",
    "encoded = tokenizer.texts_to_sequences([data_phd])[0]\n",
    "\n",
    "word_index = tokenizer.word_index\n",
    "print(list(tokenizer.index_word.items())[:10])\n",
    "print(list(tokenizer.index_word.items())[-10:])"
   ]
  },
  {
   "cell_type": "code",
   "execution_count": 4,
   "metadata": {},
   "outputs": [
    {
     "name": "stdout",
     "output_type": "stream",
     "text": [
      "[14, 34, 35, 4, 5, 36, 15, 37, 38, 3, 1, 39, 2, 1, 40, 41, 16, 42, 43, 2, 11, 44, 12, 45, 46, 47, 1, 4, 6, 3, 17, 2, 1, 18, 19, 2, 20, 2, 1, 48, 49, 21, 22, 50, 2, 51, 23, 24, 52, 53, 54, 55, 56, 8, 1, 57, 2, 1, 58, 59, 16, 60, 61, 62, 63, 2, 64, 25, 23, 24, 9, 65, 14, 26, 1, 66, 67, 11, 7, 5, 68, 69, 70, 71, 7, 10, 3, 72, 27, 1, 73, 2, 74, 2, 75, 12, 4, 6, 3, 17, 2, 28, 76, 77, 27, 1, 78, 79, 19, 2, 20, 80, 3, 1, 18, 81, 82, 22, 83, 84, 85, 86, 28, 5, 29, 25, 87, 88, 13, 1, 4, 6, 21, 89, 1, 90, 7, 10, 9, 1, 91, 3, 92, 93, 30, 5, 94, 29, 7, 10, 3, 95, 13, 1, 96, 31, 26, 97, 98, 9, 99, 31, 32, 13, 1, 100, 101, 4, 5, 3, 33, 102, 103, 1, 6, 104, 8, 15, 105, 106, 8, 1, 107, 108, 2, 33, 109, 110, 111, 112, 32, 113, 114, 11, 30, 7, 10, 115, 116, 9, 117, 118, 8, 12, 119, 120, 121, 2, 1, 4, 6, 3, 122]\n"
     ]
    }
   ],
   "source": [
    "print(encoded)"
   ]
  },
  {
   "cell_type": "markdown",
   "metadata": {},
   "source": [
    "### Da wir daran interessiert sind, aus einer Folge von beliebigen Wörtern aus unserem Text das Folgewort zu konstruieren, brauchen wir labels für alle Wörter im Vokabular. Daher benötigen wir also die Größe des Vokabulars. Diese wird auch in den ersten Layer unseres Netzwerkes eingehen. Die 1 wird nur addiert, um die später aufgerufene to_categorical Funktion zufriedenzustellen."
   ]
  },
  {
   "cell_type": "code",
   "execution_count": 5,
   "metadata": {},
   "outputs": [
    {
     "name": "stdout",
     "output_type": "stream",
     "text": [
      "Anzahl an unterschiedlichen Wörtern: 123\n"
     ]
    }
   ],
   "source": [
    "vocab_size = len(tokenizer.word_index) + 1\n",
    "print('Anzahl an unterschiedlichen Wörtern: %d' % vocab_size)"
   ]
  },
  {
   "cell_type": "markdown",
   "metadata": {},
   "source": [
    "### Im nächsten Schritt konstruieren wir Teilsätze mit (in diesem Fall) 5 Wörtern. Dabei werden die ersten 4 Wörter jeweils die Rolle der Features und das letzte Wort die Rolle der vorherzusagenden Variable einnehmen."
   ]
  },
  {
   "cell_type": "code",
   "execution_count": 6,
   "metadata": {},
   "outputs": [
    {
     "name": "stdout",
     "output_type": "stream",
     "text": [
      "Total Sequences: 209\n",
      "[14 34 35  4  5]\n",
      "[34 35  4  5 36]\n",
      "Max Sequence Length: 5\n"
     ]
    },
    {
     "data": {
      "text/plain": [
       "(209, 123)"
      ]
     },
     "execution_count": 6,
     "metadata": {},
     "output_type": "execute_result"
    }
   ],
   "source": [
    "# encode 3 words -> 1 word\n",
    "sequences = list()\n",
    "for i in range(4, len(encoded)):\n",
    "    sequence = encoded[i-4:i+1]\n",
    "    sequences.append(sequence)\n",
    "print('Total Sequences: %d' % len(sequences))\n",
    "\n",
    "max_length = max([len(seq) for seq in sequences])\n",
    "sequences = pad_sequences(sequences, maxlen=max_length)\n",
    "print(sequences[0])\n",
    "print(sequences[1])\n",
    "print('Max Sequence Length: %d' % max_length)\n",
    "\n",
    "sequences = array(sequences)\n",
    "X, y = sequences[:,:-1],sequences[:,-1]\n",
    "y = to_categorical(y, num_classes=vocab_size)\n",
    "y.shape"
   ]
  },
  {
   "cell_type": "code",
   "execution_count": 7,
   "metadata": {},
   "outputs": [
    {
     "name": "stdout",
     "output_type": "stream",
     "text": [
      "Anzahl an Wörterfolgen der Länge 5: 209\n",
      "[14 34 35  4  5]\n",
      "[34 35  4  5 36]\n"
     ]
    }
   ],
   "source": [
    "# encode 3 words -> 1 word\n",
    "sequences = list()\n",
    "for i in range(4, len(encoded)):\n",
    "    sequence = encoded[i-4:i+1]\n",
    "    sequences.append(sequence)\n",
    "print('Anzahl an Wörterfolgen der Länge 5: %d' % len(sequences))\n",
    "\n",
    "sequences = pad_sequences(sequences, maxlen=5, padding='pre')\n",
    "print(sequences[0])\n",
    "print(sequences[1])\n",
    "\n",
    "sequences = array(sequences)\n",
    "X, y = sequences[:,:-1],sequences[:,-1]\n",
    "y = to_categorical(y, num_classes=vocab_size)"
   ]
  },
  {
   "cell_type": "markdown",
   "metadata": {},
   "source": [
    "### Nun konstruieren ein neuronales Netzwerk zur Vorhersage von Folgewörtern. Dieses besteht aus einem initialen Embedding Layer, der individuellen Wörtern Vektoren mit Gewichten zuordnet, die trainiert werden. Dieser Schicht folgen die rekurrenten Zellen (wir wählen Long-Short-Term-Memory Architekturen), also das \"Gedächtnis\" des Netzwerks. Zuletzt gibt es einen Dense Layer, der wie gewohnt auf den Output projiziert. "
   ]
  },
  {
   "cell_type": "code",
   "execution_count": 15,
   "metadata": {},
   "outputs": [],
   "source": [
    "from keras.models import Model\n",
    "import keras.layers as L\n",
    "\n",
    "def build_model():\n",
    "    inp = L.Input(shape=(None,))\n",
    "    emb = L.Embedding(vocab_size, 10)(inp)\n",
    "    lstm = L.LSTM(30)(emb)\n",
    "    \n",
    "    model = Model(inp, lstm)\n",
    "    return model\n",
    "    "
   ]
  },
  {
   "cell_type": "code",
   "execution_count": 16,
   "metadata": {},
   "outputs": [
    {
     "name": "stdout",
     "output_type": "stream",
     "text": [
      "_________________________________________________________________\n",
      "Layer (type)                 Output Shape              Param #   \n",
      "=================================================================\n",
      "input_3 (InputLayer)         (None, None)              0         \n",
      "_________________________________________________________________\n",
      "embedding_3 (Embedding)      (None, None, 10)          1230      \n",
      "_________________________________________________________________\n",
      "lstm_3 (LSTM)                (None, 30)                4920      \n",
      "=================================================================\n",
      "Total params: 6,150\n",
      "Trainable params: 6,150\n",
      "Non-trainable params: 0\n",
      "_________________________________________________________________\n"
     ]
    }
   ],
   "source": [
    "model = build_model()\n",
    "model.summary()"
   ]
  },
  {
   "cell_type": "code",
   "execution_count": 1,
   "metadata": {},
   "outputs": [
    {
     "ename": "NameError",
     "evalue": "name 'Sequential' is not defined",
     "output_type": "error",
     "traceback": [
      "\u001b[1;31m---------------------------------------------------------------------------\u001b[0m",
      "\u001b[1;31mNameError\u001b[0m                                 Traceback (most recent call last)",
      "\u001b[1;32m<ipython-input-1-fe9286b91b06>\u001b[0m in \u001b[0;36m<module>\u001b[1;34m\u001b[0m\n\u001b[1;32m----> 1\u001b[1;33m \u001b[0mmodel\u001b[0m \u001b[1;33m=\u001b[0m \u001b[0mSequential\u001b[0m\u001b[1;33m(\u001b[0m\u001b[1;33m)\u001b[0m\u001b[1;33m\u001b[0m\u001b[1;33m\u001b[0m\u001b[0m\n\u001b[0m\u001b[0;32m      2\u001b[0m \u001b[0mmodel\u001b[0m\u001b[1;33m.\u001b[0m\u001b[0madd\u001b[0m\u001b[1;33m(\u001b[0m\u001b[0mEmbedding\u001b[0m\u001b[1;33m(\u001b[0m\u001b[0mvocab_size\u001b[0m\u001b[1;33m,\u001b[0m \u001b[1;36m10\u001b[0m\u001b[1;33m,\u001b[0m \u001b[0minput_length\u001b[0m\u001b[1;33m=\u001b[0m\u001b[0mmax_length\u001b[0m\u001b[1;33m-\u001b[0m\u001b[1;36m1\u001b[0m\u001b[1;33m)\u001b[0m\u001b[1;33m)\u001b[0m\u001b[1;33m\u001b[0m\u001b[1;33m\u001b[0m\u001b[0m\n\u001b[0;32m      3\u001b[0m \u001b[0mmodel\u001b[0m\u001b[1;33m.\u001b[0m\u001b[0madd\u001b[0m\u001b[1;33m(\u001b[0m\u001b[0mLSTM\u001b[0m\u001b[1;33m(\u001b[0m\u001b[1;36m30\u001b[0m\u001b[1;33m)\u001b[0m\u001b[1;33m)\u001b[0m\u001b[1;33m\u001b[0m\u001b[1;33m\u001b[0m\u001b[0m\n\u001b[0;32m      4\u001b[0m \u001b[0mmode\u001b[0m\u001b[1;33m.\u001b[0m\u001b[0madd\u001b[0m\u001b[1;33m(\u001b[0m\u001b[0mFlatten\u001b[0m\u001b[1;33m(\u001b[0m\u001b[1;33m)\u001b[0m\u001b[1;33m)\u001b[0m\u001b[1;33m\u001b[0m\u001b[1;33m\u001b[0m\u001b[0m\n\u001b[0;32m      5\u001b[0m \u001b[0mmodel\u001b[0m\u001b[1;33m.\u001b[0m\u001b[0madd\u001b[0m\u001b[1;33m(\u001b[0m\u001b[0mDense\u001b[0m\u001b[1;33m(\u001b[0m\u001b[0mvocab_size\u001b[0m\u001b[1;33m,\u001b[0m \u001b[0mactivation\u001b[0m\u001b[1;33m=\u001b[0m\u001b[1;34m'softmax'\u001b[0m\u001b[1;33m)\u001b[0m\u001b[1;33m)\u001b[0m\u001b[1;33m\u001b[0m\u001b[1;33m\u001b[0m\u001b[0m\n",
      "\u001b[1;31mNameError\u001b[0m: name 'Sequential' is not defined"
     ]
    }
   ],
   "source": [
    "model = Sequential()\n",
    "model.add(Embedding(vocab_size, 10, input_length=max_length-1))\n",
    "model.add(LSTM(30))\n",
    "mode.add(Flatten())\n",
    "model.add(Dense(vocab_size, activation='softmax'))\n",
    "print(model.summary())\n",
    "\n",
    "model.compile(loss='categorical_crossentropy', optimizer='adam', metrics=['accuracy'])\n",
    "\n",
    "model.fit(X, y, epochs=300, verbose=2)"
   ]
  },
  {
   "cell_type": "code",
   "execution_count": 10,
   "metadata": {},
   "outputs": [],
   "source": [
    "?Embedding"
   ]
  },
  {
   "cell_type": "markdown",
   "metadata": {},
   "source": [
    "### Schließlich wollen wir unser Model testen. Dazu schreiben wir eine Methode, die anhand eines Inputs von 4 aufeinanderfolgenden Wörtern, sukzessive den Rest des Textes generiert."
   ]
  },
  {
   "cell_type": "code",
   "execution_count": null,
   "metadata": {},
   "outputs": [],
   "source": [
    "def generate_seq(model, tokenizer, max_length, seed_text, n_words):\n",
    "    in_text = seed_text\n",
    "\n",
    "    for _ in range(n_words):\n",
    "        encoded = tokenizer.texts_to_sequences([in_text])[0]\n",
    "        encoded = pad_sequences([encoded], maxlen=max_length, padding='pre')\n",
    "        # predict probabilities for each word\n",
    "        yhat = model.predict_classes(encoded, verbose=0)\n",
    "        # map predicted word index to word\n",
    "        out_word = ''\n",
    "        for word, index in tokenizer.word_index.items():\n",
    "            if index == yhat:\n",
    "                out_word = word\n",
    "                break\n",
    "        # append to input\n",
    "        in_text += ' ' + out_word\n",
    "    return in_text\n",
    "\n",
    "# evaluate model\n",
    "print(generate_seq(model, tokenizer, 4, 'how bound states can', 40))"
   ]
  }
 ],
 "metadata": {
  "kernelspec": {
   "display_name": "Python 3",
   "language": "python",
   "name": "python3"
  },
  "language_info": {
   "codemirror_mode": {
    "name": "ipython",
    "version": 3
   },
   "file_extension": ".py",
   "mimetype": "text/x-python",
   "name": "python",
   "nbconvert_exporter": "python",
   "pygments_lexer": "ipython3",
   "version": "3.7.3"
  }
 },
 "nbformat": 4,
 "nbformat_minor": 2
}
